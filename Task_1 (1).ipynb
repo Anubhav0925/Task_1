{
 "cells": [
  {
   "cell_type": "markdown",
   "id": "16d1f160-55fd-4683-86fd-c31d9a3b045c",
   "metadata": {},
   "source": [
    "Q1. Create a function which will take a list as an argument and return the product of all the numbers\n",
    "after creating a flat list.\n",
    "Use the below-given list as an argument for your function.\n",
    "list1 = [1,2,3,4, [44,55,66, True], False, (34,56,78,89,34), {1,2,3,3,2,1}, {1:34, \"key2\": [55, 67, 78, 89], 4: (45,\n",
    "22, 61, 34)}, [56, 'data science'], 'Machine Learning']"
   ]
  },
  {
   "cell_type": "code",
   "execution_count": 3,
   "id": "4d0679e5-7767-4ebc-860c-cbd6a2610582",
   "metadata": {},
   "outputs": [
    {
     "name": "stdout",
     "output_type": "stream",
     "text": [
      "[1, 2, 3, 4, [44, 55, 66, True], False, (34, 56, 78, 89, 34), {1, 2, 3}, {1: 34, 'key2': [55, 67, 78, 89], 4: (45, 22, 61, 34)}, [56, 'data science'], 'Machine Learning']\n",
      "FlatList:\n",
      " [1, 2, 3, 4, 44, 55, 66, True, False, 34, 56, 78, 89, 34, 1, 2, 3, 1, 'key2', 4, 34, 55, 67, 78, 89, 45, 22, 61, 34, 56, 'data science', 'Machine Learning']\n",
      "Product:  4134711838987085478833841242112000\n"
     ]
    }
   ],
   "source": [
    "def flat(list1):\n",
    "    list2 = []\n",
    "    # product = 1\n",
    "    for elements in list1:\n",
    "        if type(elements) is list:\n",
    "            for item in elements:\n",
    "                list2.append(item)\n",
    "        elif type(elements) is tuple:\n",
    "            for item in elements:\n",
    "                list2.append(item)\n",
    "        elif type(elements) is set:\n",
    "            for item in elements:\n",
    "                list2.append(item)\n",
    "        elif type(elements) is bool:\n",
    "            list2.append(elements)\n",
    "        elif type(elements) is dict:\n",
    "            key=list(elements.keys())\n",
    "            value=list(elements.values())\n",
    "            for k in key:\n",
    "                list2.append(k)\n",
    "            for item in value:\n",
    "                if type(item) is tuple:\n",
    "                    for i_1 in item:\n",
    "                        list2.append(i_1)\n",
    "                elif type(item) is list:\n",
    "                    for i_2 in item:\n",
    "                        list2.append(i_2)\n",
    "                else:\n",
    "                    list2.append(item)\n",
    "        else:\n",
    "            list2.append(elements)\n",
    "\n",
    "    return list2\n",
    "\n",
    "\n",
    "list1 = [1, 2, 3, 4, [44, 55, 66, True], False, (34, 56, 78, 89, 34), {1, 2, 3, 3, 2, 1},\n",
    "        {1: 34, \"key2\": [55, 67, 78, 89], 4: (45, 22, 61, 34)}, [56, 'data science'], 'Machine Learning']\n",
    "print(list1)\n",
    "list2=flat(list1)\n",
    "print('FlatList:\\n', list2)\n",
    "\n",
    "product = 1\n",
    "for items in list2:\n",
    "    if type(items) == int:\n",
    "        product = product * items\n",
    "print(\"Product: \", product)"
   ]
  },
  {
   "cell_type": "markdown",
   "id": "f3ab8fdc-c800-4e2f-80a8-5b32295fd77e",
   "metadata": {},
   "source": [
    "Q2. Write a python program for encrypting a message sent to you by your friend. The logic of encryption\n",
    "should be such that, for a the output should be z. For b, the output should be y. For c, the output should\n",
    "be x respectively. Also, the whitespace should be replaced with a dollar sign. Keep the punctuation\n",
    "marks unchanged.\n",
    "Input Sentence: I want to become a Data Scientist.\n",
    "Encrypt the above input sentence using the program you just created.\n",
    "Note: Convert the given input sentence into lowercase before encrypting. The final output should be\n",
    "lowercase."
   ]
  },
  {
   "cell_type": "code",
   "execution_count": 2,
   "id": "cb38adaf-328a-4867-bb3a-5256cbb6bc11",
   "metadata": {},
   "outputs": [
    {
     "name": "stdin",
     "output_type": "stream",
     "text": [
      "Original msg : I want to became a data scientist\n"
     ]
    },
    {
     "name": "stdout",
     "output_type": "stream",
     "text": [
      "Original_msg converted into Lowercase_letters :  i want to became a data scientist\n",
      "Encrypted massage : \n",
      "r$dzmg$gl$yvxznv$z$wzgz$hxrvmgrhg\n"
     ]
    }
   ],
   "source": [
    "def encrypted_msg(string):\n",
    "    enc_str=\"\"\n",
    "    for c in string:\n",
    "        if c == ' ':\n",
    "            enc_str=enc_str+\"$\"\n",
    "        elif ord(c) in range(97,123):\n",
    "            enc_str = enc_str+chr(219 - ord(c))\n",
    "        else:\n",
    "            enc_str=enc_str+c\n",
    "    return enc_str         \n",
    "           \n",
    "\n",
    "\n",
    "Original_msg = input(\"Original msg :\")\n",
    "string = Original_msg.lower()\n",
    "print(\"Original_msg converted into Lowercase_letters : \", string)\n",
    "print(\"Encrypted massage : \")\n",
    "print(encrypted_msg(string))"
   ]
  },
  {
   "cell_type": "code",
   "execution_count": null,
   "id": "a6d1e2a6-c0b6-4505-aaeb-c3b85c9dda05",
   "metadata": {},
   "outputs": [],
   "source": []
  }
 ],
 "metadata": {
  "kernelspec": {
   "display_name": "Python 3 (ipykernel)",
   "language": "python",
   "name": "python3"
  },
  "language_info": {
   "codemirror_mode": {
    "name": "ipython",
    "version": 3
   },
   "file_extension": ".py",
   "mimetype": "text/x-python",
   "name": "python",
   "nbconvert_exporter": "python",
   "pygments_lexer": "ipython3",
   "version": "3.10.8"
  }
 },
 "nbformat": 4,
 "nbformat_minor": 5
}
